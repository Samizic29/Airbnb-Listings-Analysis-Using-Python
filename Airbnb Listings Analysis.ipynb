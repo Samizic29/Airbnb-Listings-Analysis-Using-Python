{
 "cells": [
  {
   "cell_type": "markdown",
   "metadata": {},
   "source": [
    "## Airbnb Listings Analysis\n",
    "\n",
    "**By Samuel Oyedele**"
   ]
  },
  {
   "cell_type": "markdown",
   "metadata": {},
   "source": [
    "## Introduction\n",
    "\n",
    "### Dataset Description\n",
    "> Airbnb data for 250,000+ listings in 10 major cities, including information about hosts, pricing, location, and room type, along with over 5 million historical reviews."
   ]
  },
  {
   "cell_type": "markdown",
   "metadata": {},
   "source": [
    "## Objective\n",
    "\n",
    "> Analyze Airbnb listings in Paris to determine the impact of recent regulations. "
   ]
  },
  {
   "cell_type": "markdown",
   "metadata": {},
   "source": [
    "## Data Wrangling\n",
    "\n",
    "> In this section, the dataset are gathered, assessed for quality and tidiness issues and cleaned for further analysis and visualizations."
   ]
  },
  {
   "cell_type": "markdown",
   "metadata": {},
   "source": [
    "### Data Gathering\n",
    "\n",
    "> The dataset (Listings) in CSV file is loaded into a dataframe using pandas `read_csv`."
   ]
  },
  {
   "cell_type": "code",
   "execution_count": 23,
   "metadata": {},
   "outputs": [],
   "source": [
    "# import necessary libraries\n",
    "import pandas as pd\n",
    "import numpy as np\n",
    "import matplotlib.pyplot as plt\n",
    "import seaborn as sns"
   ]
  },
  {
   "cell_type": "markdown",
   "metadata": {},
   "source": [
    "Read CSV file to a pandas dataframe"
   ]
  },
  {
   "cell_type": "code",
   "execution_count": 24,
   "metadata": {},
   "outputs": [],
   "source": [
    "listings_df = pd.read_csv('Listings.csv', low_memory=False, encoding=\"ISO-8859-1\")"
   ]
  },
  {
   "cell_type": "markdown",
   "metadata": {},
   "source": [
    "### Assessing Data\n",
    "\n",
    "> In this section, the loaded data is assessed for any quality and tidiness issues."
   ]
  },
  {
   "cell_type": "code",
   "execution_count": 25,
   "metadata": {},
   "outputs": [
    {
     "data": {
      "text/html": [
       "<div>\n",
       "<style scoped>\n",
       "    .dataframe tbody tr th:only-of-type {\n",
       "        vertical-align: middle;\n",
       "    }\n",
       "\n",
       "    .dataframe tbody tr th {\n",
       "        vertical-align: top;\n",
       "    }\n",
       "\n",
       "    .dataframe thead th {\n",
       "        text-align: right;\n",
       "    }\n",
       "</style>\n",
       "<table border=\"1\" class=\"dataframe\">\n",
       "  <thead>\n",
       "    <tr style=\"text-align: right;\">\n",
       "      <th></th>\n",
       "      <th>listing_id</th>\n",
       "      <th>name</th>\n",
       "      <th>host_id</th>\n",
       "      <th>host_since</th>\n",
       "      <th>host_location</th>\n",
       "      <th>host_response_time</th>\n",
       "      <th>host_response_rate</th>\n",
       "      <th>host_acceptance_rate</th>\n",
       "      <th>host_is_superhost</th>\n",
       "      <th>host_total_listings_count</th>\n",
       "      <th>...</th>\n",
       "      <th>minimum_nights</th>\n",
       "      <th>maximum_nights</th>\n",
       "      <th>review_scores_rating</th>\n",
       "      <th>review_scores_accuracy</th>\n",
       "      <th>review_scores_cleanliness</th>\n",
       "      <th>review_scores_checkin</th>\n",
       "      <th>review_scores_communication</th>\n",
       "      <th>review_scores_location</th>\n",
       "      <th>review_scores_value</th>\n",
       "      <th>instant_bookable</th>\n",
       "    </tr>\n",
       "  </thead>\n",
       "  <tbody>\n",
       "    <tr>\n",
       "      <th>0</th>\n",
       "      <td>281420</td>\n",
       "      <td>Beautiful Flat in le Village Montmartre, Paris</td>\n",
       "      <td>1466919</td>\n",
       "      <td>2011-12-03</td>\n",
       "      <td>Paris, Ile-de-France, France</td>\n",
       "      <td>NaN</td>\n",
       "      <td>NaN</td>\n",
       "      <td>NaN</td>\n",
       "      <td>f</td>\n",
       "      <td>1.0</td>\n",
       "      <td>...</td>\n",
       "      <td>2</td>\n",
       "      <td>1125</td>\n",
       "      <td>100.0</td>\n",
       "      <td>10.0</td>\n",
       "      <td>10.0</td>\n",
       "      <td>10.0</td>\n",
       "      <td>10.0</td>\n",
       "      <td>10.0</td>\n",
       "      <td>10.0</td>\n",
       "      <td>f</td>\n",
       "    </tr>\n",
       "    <tr>\n",
       "      <th>1</th>\n",
       "      <td>3705183</td>\n",
       "      <td>39 mÃÂ² Paris (Sacre CÃ",
       "âur)</td>\n",
       "      <td>10328771</td>\n",
       "      <td>2013-11-29</td>\n",
       "      <td>Paris, Ile-de-France, France</td>\n",
       "      <td>NaN</td>\n",
       "      <td>NaN</td>\n",
       "      <td>NaN</td>\n",
       "      <td>f</td>\n",
       "      <td>1.0</td>\n",
       "      <td>...</td>\n",
       "      <td>2</td>\n",
       "      <td>1125</td>\n",
       "      <td>100.0</td>\n",
       "      <td>10.0</td>\n",
       "      <td>10.0</td>\n",
       "      <td>10.0</td>\n",
       "      <td>10.0</td>\n",
       "      <td>10.0</td>\n",
       "      <td>10.0</td>\n",
       "      <td>f</td>\n",
       "    </tr>\n",
       "    <tr>\n",
       "      <th>2</th>\n",
       "      <td>4082273</td>\n",
       "      <td>Lovely apartment with Terrace, 60m2</td>\n",
       "      <td>19252768</td>\n",
       "      <td>2014-07-31</td>\n",
       "      <td>Paris, Ile-de-France, France</td>\n",
       "      <td>NaN</td>\n",
       "      <td>NaN</td>\n",
       "      <td>NaN</td>\n",
       "      <td>f</td>\n",
       "      <td>1.0</td>\n",
       "      <td>...</td>\n",
       "      <td>2</td>\n",
       "      <td>1125</td>\n",
       "      <td>100.0</td>\n",
       "      <td>10.0</td>\n",
       "      <td>10.0</td>\n",
       "      <td>10.0</td>\n",
       "      <td>10.0</td>\n",
       "      <td>10.0</td>\n",
       "      <td>10.0</td>\n",
       "      <td>f</td>\n",
       "    </tr>\n",
       "    <tr>\n",
       "      <th>3</th>\n",
       "      <td>4797344</td>\n",
       "      <td>Cosy studio (close to Eiffel tower)</td>\n",
       "      <td>10668311</td>\n",
       "      <td>2013-12-17</td>\n",
       "      <td>Paris, Ile-de-France, France</td>\n",
       "      <td>NaN</td>\n",
       "      <td>NaN</td>\n",
       "      <td>NaN</td>\n",
       "      <td>f</td>\n",
       "      <td>1.0</td>\n",
       "      <td>...</td>\n",
       "      <td>2</td>\n",
       "      <td>1125</td>\n",
       "      <td>100.0</td>\n",
       "      <td>10.0</td>\n",
       "      <td>10.0</td>\n",
       "      <td>10.0</td>\n",
       "      <td>10.0</td>\n",
       "      <td>10.0</td>\n",
       "      <td>10.0</td>\n",
       "      <td>f</td>\n",
       "    </tr>\n",
       "    <tr>\n",
       "      <th>4</th>\n",
       "      <td>4823489</td>\n",
       "      <td>Close to Eiffel Tower - Beautiful flat : 2 rooms</td>\n",
       "      <td>24837558</td>\n",
       "      <td>2014-12-14</td>\n",
       "      <td>Paris, Ile-de-France, France</td>\n",
       "      <td>NaN</td>\n",
       "      <td>NaN</td>\n",
       "      <td>NaN</td>\n",
       "      <td>f</td>\n",
       "      <td>1.0</td>\n",
       "      <td>...</td>\n",
       "      <td>2</td>\n",
       "      <td>1125</td>\n",
       "      <td>100.0</td>\n",
       "      <td>10.0</td>\n",
       "      <td>10.0</td>\n",
       "      <td>10.0</td>\n",
       "      <td>10.0</td>\n",
       "      <td>10.0</td>\n",
       "      <td>10.0</td>\n",
       "      <td>f</td>\n",
       "    </tr>\n",
       "  </tbody>\n",
       "</table>\n",
       "<p>5 rows × 33 columns</p>\n",
       "</div>"
      ],
      "text/plain": [
       "   listing_id                                              name   host_id  \\\n",
       "0      281420    Beautiful Flat in le Village Montmartre, Paris   1466919   \n",
       "1     3705183                   39 mÃÂ² Paris (Sacre CÃ\n",
       "âur)  10328771   \n",
       "2     4082273               Lovely apartment with Terrace, 60m2  19252768   \n",
       "3     4797344               Cosy studio (close to Eiffel tower)  10668311   \n",
       "4     4823489  Close to Eiffel Tower - Beautiful flat : 2 rooms  24837558   \n",
       "\n",
       "   host_since                 host_location host_response_time  \\\n",
       "0  2011-12-03  Paris, Ile-de-France, France                NaN   \n",
       "1  2013-11-29  Paris, Ile-de-France, France                NaN   \n",
       "2  2014-07-31  Paris, Ile-de-France, France                NaN   \n",
       "3  2013-12-17  Paris, Ile-de-France, France                NaN   \n",
       "4  2014-12-14  Paris, Ile-de-France, France                NaN   \n",
       "\n",
       "   host_response_rate  host_acceptance_rate host_is_superhost  \\\n",
       "0                 NaN                   NaN                 f   \n",
       "1                 NaN                   NaN                 f   \n",
       "2                 NaN                   NaN                 f   \n",
       "3                 NaN                   NaN                 f   \n",
       "4                 NaN                   NaN                 f   \n",
       "\n",
       "   host_total_listings_count        ...        minimum_nights maximum_nights  \\\n",
       "0                        1.0        ...                     2           1125   \n",
       "1                        1.0        ...                     2           1125   \n",
       "2                        1.0        ...                     2           1125   \n",
       "3                        1.0        ...                     2           1125   \n",
       "4                        1.0        ...                     2           1125   \n",
       "\n",
       "  review_scores_rating review_scores_accuracy review_scores_cleanliness  \\\n",
       "0                100.0                   10.0                      10.0   \n",
       "1                100.0                   10.0                      10.0   \n",
       "2                100.0                   10.0                      10.0   \n",
       "3                100.0                   10.0                      10.0   \n",
       "4                100.0                   10.0                      10.0   \n",
       "\n",
       "   review_scores_checkin  review_scores_communication review_scores_location  \\\n",
       "0                   10.0                         10.0                   10.0   \n",
       "1                   10.0                         10.0                   10.0   \n",
       "2                   10.0                         10.0                   10.0   \n",
       "3                   10.0                         10.0                   10.0   \n",
       "4                   10.0                         10.0                   10.0   \n",
       "\n",
       "  review_scores_value  instant_bookable  \n",
       "0                10.0                 f  \n",
       "1                10.0                 f  \n",
       "2                10.0                 f  \n",
       "3                10.0                 f  \n",
       "4                10.0                 f  \n",
       "\n",
       "[5 rows x 33 columns]"
      ]
     },
     "execution_count": 25,
     "metadata": {},
     "output_type": "execute_result"
    }
   ],
   "source": [
    "# Preview of the dataframe\n",
    "listings_df.head()"
   ]
  },
  {
   "cell_type": "code",
   "execution_count": 26,
   "metadata": {},
   "outputs": [
    {
     "name": "stdout",
     "output_type": "stream",
     "text": [
      "<class 'pandas.core.frame.DataFrame'>\n",
      "RangeIndex: 279712 entries, 0 to 279711\n",
      "Data columns (total 33 columns):\n",
      "listing_id                     279712 non-null int64\n",
      "name                           279539 non-null object\n",
      "host_id                        279712 non-null int64\n",
      "host_since                     279547 non-null object\n",
      "host_location                  278872 non-null object\n",
      "host_response_time             150930 non-null object\n",
      "host_response_rate             150930 non-null float64\n",
      "host_acceptance_rate           166625 non-null float64\n",
      "host_is_superhost              279547 non-null object\n",
      "host_total_listings_count      279547 non-null float64\n",
      "host_has_profile_pic           279547 non-null object\n",
      "host_identity_verified         279547 non-null object\n",
      "neighbourhood                  279712 non-null object\n",
      "district                       37012 non-null object\n",
      "city                           279712 non-null object\n",
      "latitude                       279712 non-null float64\n",
      "longitude                      279712 non-null float64\n",
      "property_type                  279712 non-null object\n",
      "room_type                      279712 non-null object\n",
      "accommodates                   279712 non-null int64\n",
      "bedrooms                       250277 non-null float64\n",
      "amenities                      279712 non-null object\n",
      "price                          279712 non-null int64\n",
      "minimum_nights                 279712 non-null int64\n",
      "maximum_nights                 279712 non-null int64\n",
      "review_scores_rating           188307 non-null float64\n",
      "review_scores_accuracy         187999 non-null float64\n",
      "review_scores_cleanliness      188047 non-null float64\n",
      "review_scores_checkin          187941 non-null float64\n",
      "review_scores_communication    188025 non-null float64\n",
      "review_scores_location         187937 non-null float64\n",
      "review_scores_value            187927 non-null float64\n",
      "instant_bookable               279712 non-null object\n",
      "dtypes: float64(13), int64(6), object(14)\n",
      "memory usage: 70.4+ MB\n"
     ]
    }
   ],
   "source": [
    "# dataframe information\n",
    "listings_df.info()"
   ]
  },
  {
   "cell_type": "code",
   "execution_count": 27,
   "metadata": {},
   "outputs": [
    {
     "data": {
      "text/html": [
       "<div>\n",
       "<style scoped>\n",
       "    .dataframe tbody tr th:only-of-type {\n",
       "        vertical-align: middle;\n",
       "    }\n",
       "\n",
       "    .dataframe tbody tr th {\n",
       "        vertical-align: top;\n",
       "    }\n",
       "\n",
       "    .dataframe thead th {\n",
       "        text-align: right;\n",
       "    }\n",
       "</style>\n",
       "<table border=\"1\" class=\"dataframe\">\n",
       "  <thead>\n",
       "    <tr style=\"text-align: right;\">\n",
       "      <th></th>\n",
       "      <th>listing_id</th>\n",
       "      <th>host_id</th>\n",
       "      <th>host_response_rate</th>\n",
       "      <th>host_acceptance_rate</th>\n",
       "      <th>host_total_listings_count</th>\n",
       "      <th>latitude</th>\n",
       "      <th>longitude</th>\n",
       "      <th>accommodates</th>\n",
       "      <th>bedrooms</th>\n",
       "      <th>price</th>\n",
       "      <th>minimum_nights</th>\n",
       "      <th>maximum_nights</th>\n",
       "      <th>review_scores_rating</th>\n",
       "      <th>review_scores_accuracy</th>\n",
       "      <th>review_scores_cleanliness</th>\n",
       "      <th>review_scores_checkin</th>\n",
       "      <th>review_scores_communication</th>\n",
       "      <th>review_scores_location</th>\n",
       "      <th>review_scores_value</th>\n",
       "    </tr>\n",
       "  </thead>\n",
       "  <tbody>\n",
       "    <tr>\n",
       "      <th>count</th>\n",
       "      <td>2.797120e+05</td>\n",
       "      <td>2.797120e+05</td>\n",
       "      <td>150930.000000</td>\n",
       "      <td>166625.000000</td>\n",
       "      <td>279547.000000</td>\n",
       "      <td>279712.000000</td>\n",
       "      <td>279712.000000</td>\n",
       "      <td>279712.000000</td>\n",
       "      <td>250277.000000</td>\n",
       "      <td>279712.000000</td>\n",
       "      <td>279712.000000</td>\n",
       "      <td>2.797120e+05</td>\n",
       "      <td>188307.000000</td>\n",
       "      <td>187999.000000</td>\n",
       "      <td>188047.000000</td>\n",
       "      <td>187941.000000</td>\n",
       "      <td>188025.000000</td>\n",
       "      <td>187937.000000</td>\n",
       "      <td>187927.000000</td>\n",
       "    </tr>\n",
       "    <tr>\n",
       "      <th>mean</th>\n",
       "      <td>2.638196e+07</td>\n",
       "      <td>1.081658e+08</td>\n",
       "      <td>0.865939</td>\n",
       "      <td>0.827168</td>\n",
       "      <td>24.581612</td>\n",
       "      <td>18.761862</td>\n",
       "      <td>12.595075</td>\n",
       "      <td>3.288736</td>\n",
       "      <td>1.515509</td>\n",
       "      <td>608.792737</td>\n",
       "      <td>8.050967</td>\n",
       "      <td>2.755860e+04</td>\n",
       "      <td>93.405195</td>\n",
       "      <td>9.565476</td>\n",
       "      <td>9.312869</td>\n",
       "      <td>9.701534</td>\n",
       "      <td>9.698593</td>\n",
       "      <td>9.633994</td>\n",
       "      <td>9.335364</td>\n",
       "    </tr>\n",
       "    <tr>\n",
       "      <th>std</th>\n",
       "      <td>1.442576e+07</td>\n",
       "      <td>1.108570e+08</td>\n",
       "      <td>0.283744</td>\n",
       "      <td>0.289202</td>\n",
       "      <td>284.041143</td>\n",
       "      <td>32.560343</td>\n",
       "      <td>73.081309</td>\n",
       "      <td>2.133379</td>\n",
       "      <td>1.153080</td>\n",
       "      <td>3441.826611</td>\n",
       "      <td>31.518946</td>\n",
       "      <td>7.282875e+06</td>\n",
       "      <td>10.070437</td>\n",
       "      <td>0.990878</td>\n",
       "      <td>1.146072</td>\n",
       "      <td>0.867434</td>\n",
       "      <td>0.886884</td>\n",
       "      <td>0.833234</td>\n",
       "      <td>1.042625</td>\n",
       "    </tr>\n",
       "    <tr>\n",
       "      <th>min</th>\n",
       "      <td>2.577000e+03</td>\n",
       "      <td>1.822000e+03</td>\n",
       "      <td>0.000000</td>\n",
       "      <td>0.000000</td>\n",
       "      <td>0.000000</td>\n",
       "      <td>-34.264400</td>\n",
       "      <td>-99.339630</td>\n",
       "      <td>0.000000</td>\n",
       "      <td>1.000000</td>\n",
       "      <td>0.000000</td>\n",
       "      <td>1.000000</td>\n",
       "      <td>1.000000e+00</td>\n",
       "      <td>20.000000</td>\n",
       "      <td>2.000000</td>\n",
       "      <td>2.000000</td>\n",
       "      <td>2.000000</td>\n",
       "      <td>2.000000</td>\n",
       "      <td>2.000000</td>\n",
       "      <td>2.000000</td>\n",
       "    </tr>\n",
       "    <tr>\n",
       "      <th>25%</th>\n",
       "      <td>1.384462e+07</td>\n",
       "      <td>1.720656e+07</td>\n",
       "      <td>0.900000</td>\n",
       "      <td>0.780000</td>\n",
       "      <td>1.000000</td>\n",
       "      <td>-22.964390</td>\n",
       "      <td>-43.198040</td>\n",
       "      <td>2.000000</td>\n",
       "      <td>1.000000</td>\n",
       "      <td>75.000000</td>\n",
       "      <td>1.000000</td>\n",
       "      <td>4.500000e+01</td>\n",
       "      <td>91.000000</td>\n",
       "      <td>9.000000</td>\n",
       "      <td>9.000000</td>\n",
       "      <td>10.000000</td>\n",
       "      <td>10.000000</td>\n",
       "      <td>9.000000</td>\n",
       "      <td>9.000000</td>\n",
       "    </tr>\n",
       "    <tr>\n",
       "      <th>50%</th>\n",
       "      <td>2.767098e+07</td>\n",
       "      <td>5.826911e+07</td>\n",
       "      <td>1.000000</td>\n",
       "      <td>0.980000</td>\n",
       "      <td>1.000000</td>\n",
       "      <td>40.710785</td>\n",
       "      <td>2.382780</td>\n",
       "      <td>2.000000</td>\n",
       "      <td>1.000000</td>\n",
       "      <td>150.000000</td>\n",
       "      <td>2.000000</td>\n",
       "      <td>1.125000e+03</td>\n",
       "      <td>96.000000</td>\n",
       "      <td>10.000000</td>\n",
       "      <td>10.000000</td>\n",
       "      <td>10.000000</td>\n",
       "      <td>10.000000</td>\n",
       "      <td>10.000000</td>\n",
       "      <td>10.000000</td>\n",
       "    </tr>\n",
       "    <tr>\n",
       "      <th>75%</th>\n",
       "      <td>3.978485e+07</td>\n",
       "      <td>1.832853e+08</td>\n",
       "      <td>1.000000</td>\n",
       "      <td>1.000000</td>\n",
       "      <td>4.000000</td>\n",
       "      <td>41.908610</td>\n",
       "      <td>28.986730</td>\n",
       "      <td>4.000000</td>\n",
       "      <td>2.000000</td>\n",
       "      <td>474.000000</td>\n",
       "      <td>5.000000</td>\n",
       "      <td>1.125000e+03</td>\n",
       "      <td>100.000000</td>\n",
       "      <td>10.000000</td>\n",
       "      <td>10.000000</td>\n",
       "      <td>10.000000</td>\n",
       "      <td>10.000000</td>\n",
       "      <td>10.000000</td>\n",
       "      <td>10.000000</td>\n",
       "    </tr>\n",
       "    <tr>\n",
       "      <th>max</th>\n",
       "      <td>4.834353e+07</td>\n",
       "      <td>3.901874e+08</td>\n",
       "      <td>1.000000</td>\n",
       "      <td>1.000000</td>\n",
       "      <td>7235.000000</td>\n",
       "      <td>48.904910</td>\n",
       "      <td>151.339810</td>\n",
       "      <td>16.000000</td>\n",
       "      <td>50.000000</td>\n",
       "      <td>625216.000000</td>\n",
       "      <td>9999.000000</td>\n",
       "      <td>2.147484e+09</td>\n",
       "      <td>100.000000</td>\n",
       "      <td>10.000000</td>\n",
       "      <td>10.000000</td>\n",
       "      <td>10.000000</td>\n",
       "      <td>10.000000</td>\n",
       "      <td>10.000000</td>\n",
       "      <td>10.000000</td>\n",
       "    </tr>\n",
       "  </tbody>\n",
       "</table>\n",
       "</div>"
      ],
      "text/plain": [
       "         listing_id       host_id  host_response_rate  host_acceptance_rate  \\\n",
       "count  2.797120e+05  2.797120e+05       150930.000000         166625.000000   \n",
       "mean   2.638196e+07  1.081658e+08            0.865939              0.827168   \n",
       "std    1.442576e+07  1.108570e+08            0.283744              0.289202   \n",
       "min    2.577000e+03  1.822000e+03            0.000000              0.000000   \n",
       "25%    1.384462e+07  1.720656e+07            0.900000              0.780000   \n",
       "50%    2.767098e+07  5.826911e+07            1.000000              0.980000   \n",
       "75%    3.978485e+07  1.832853e+08            1.000000              1.000000   \n",
       "max    4.834353e+07  3.901874e+08            1.000000              1.000000   \n",
       "\n",
       "       host_total_listings_count       latitude      longitude   accommodates  \\\n",
       "count              279547.000000  279712.000000  279712.000000  279712.000000   \n",
       "mean                   24.581612      18.761862      12.595075       3.288736   \n",
       "std                   284.041143      32.560343      73.081309       2.133379   \n",
       "min                     0.000000     -34.264400     -99.339630       0.000000   \n",
       "25%                     1.000000     -22.964390     -43.198040       2.000000   \n",
       "50%                     1.000000      40.710785       2.382780       2.000000   \n",
       "75%                     4.000000      41.908610      28.986730       4.000000   \n",
       "max                  7235.000000      48.904910     151.339810      16.000000   \n",
       "\n",
       "            bedrooms          price  minimum_nights  maximum_nights  \\\n",
       "count  250277.000000  279712.000000   279712.000000    2.797120e+05   \n",
       "mean        1.515509     608.792737        8.050967    2.755860e+04   \n",
       "std         1.153080    3441.826611       31.518946    7.282875e+06   \n",
       "min         1.000000       0.000000        1.000000    1.000000e+00   \n",
       "25%         1.000000      75.000000        1.000000    4.500000e+01   \n",
       "50%         1.000000     150.000000        2.000000    1.125000e+03   \n",
       "75%         2.000000     474.000000        5.000000    1.125000e+03   \n",
       "max        50.000000  625216.000000     9999.000000    2.147484e+09   \n",
       "\n",
       "       review_scores_rating  review_scores_accuracy  \\\n",
       "count         188307.000000           187999.000000   \n",
       "mean              93.405195                9.565476   \n",
       "std               10.070437                0.990878   \n",
       "min               20.000000                2.000000   \n",
       "25%               91.000000                9.000000   \n",
       "50%               96.000000               10.000000   \n",
       "75%              100.000000               10.000000   \n",
       "max              100.000000               10.000000   \n",
       "\n",
       "       review_scores_cleanliness  review_scores_checkin  \\\n",
       "count              188047.000000          187941.000000   \n",
       "mean                    9.312869               9.701534   \n",
       "std                     1.146072               0.867434   \n",
       "min                     2.000000               2.000000   \n",
       "25%                     9.000000              10.000000   \n",
       "50%                    10.000000              10.000000   \n",
       "75%                    10.000000              10.000000   \n",
       "max                    10.000000              10.000000   \n",
       "\n",
       "       review_scores_communication  review_scores_location  \\\n",
       "count                188025.000000           187937.000000   \n",
       "mean                      9.698593                9.633994   \n",
       "std                       0.886884                0.833234   \n",
       "min                       2.000000                2.000000   \n",
       "25%                      10.000000                9.000000   \n",
       "50%                      10.000000               10.000000   \n",
       "75%                      10.000000               10.000000   \n",
       "max                      10.000000               10.000000   \n",
       "\n",
       "       review_scores_value  \n",
       "count        187927.000000  \n",
       "mean              9.335364  \n",
       "std               1.042625  \n",
       "min               2.000000  \n",
       "25%               9.000000  \n",
       "50%              10.000000  \n",
       "75%              10.000000  \n",
       "max              10.000000  "
      ]
     },
     "execution_count": 27,
     "metadata": {},
     "output_type": "execute_result"
    }
   ],
   "source": [
    "# statistics summary of the dataframe\n",
    "listings_df.describe()"
   ]
  },
  {
   "cell_type": "markdown",
   "metadata": {},
   "source": [
    "#### Quality Issues\n",
    "\n",
    "- Missing values in some columns.\n",
    "- Datatype: incorrect data type for host_since and bedrooms columns."
   ]
  },
  {
   "cell_type": "markdown",
   "metadata": {},
   "source": [
    "### Data Cleaning\n",
    "> The dataset quality issues will be cleaned for analysis and visualizations.\n",
    "\n",
    "Note: It is advisable follow this step in data cleaning in python: Define, Code and Test."
   ]
  },
  {
   "cell_type": "markdown",
   "metadata": {},
   "source": [
    "#### Define\n",
    "\n",
    "**Missing values in some columns**\n",
    "\n",
    "- A subset of columns will be selected which will remove some columns with null values."
   ]
  },
  {
   "cell_type": "markdown",
   "metadata": {},
   "source": [
    "#### Code"
   ]
  },
  {
   "cell_type": "code",
   "execution_count": 28,
   "metadata": {},
   "outputs": [],
   "source": [
    "listings_clean = listings_df[['listing_id', 'name', 'host_id', 'host_since','neighbourhood', 'city', \n",
    "             'room_type', 'accommodates', 'bedrooms', 'price', 'minimum_nights', 'maximum_nights', 'review_scores_rating' ]]"
   ]
  },
  {
   "cell_type": "markdown",
   "metadata": {},
   "source": [
    "#### Test"
   ]
  },
  {
   "cell_type": "code",
   "execution_count": 29,
   "metadata": {},
   "outputs": [
    {
     "name": "stdout",
     "output_type": "stream",
     "text": [
      "<class 'pandas.core.frame.DataFrame'>\n",
      "RangeIndex: 279712 entries, 0 to 279711\n",
      "Data columns (total 13 columns):\n",
      "listing_id              279712 non-null int64\n",
      "name                    279539 non-null object\n",
      "host_id                 279712 non-null int64\n",
      "host_since              279547 non-null object\n",
      "neighbourhood           279712 non-null object\n",
      "city                    279712 non-null object\n",
      "room_type               279712 non-null object\n",
      "accommodates            279712 non-null int64\n",
      "bedrooms                250277 non-null float64\n",
      "price                   279712 non-null int64\n",
      "minimum_nights          279712 non-null int64\n",
      "maximum_nights          279712 non-null int64\n",
      "review_scores_rating    188307 non-null float64\n",
      "dtypes: float64(2), int64(6), object(5)\n",
      "memory usage: 27.7+ MB\n"
     ]
    }
   ],
   "source": [
    "listings_clean.info()"
   ]
  },
  {
   "cell_type": "markdown",
   "metadata": {},
   "source": [
    "#### Define\n",
    "\n",
    "**Datatype: incorrect data type for host_since and bedrooms columns.**\n",
    "    \n",
    "- Convert the host since and bedrooms column datatype to date and integer respectively."
   ]
  },
  {
   "cell_type": "markdown",
   "metadata": {},
   "source": [
    "#### Code"
   ]
  },
  {
   "cell_type": "code",
   "execution_count": 30,
   "metadata": {},
   "outputs": [
    {
     "name": "stderr",
     "output_type": "stream",
     "text": [
      "/opt/conda/lib/python3.6/site-packages/ipykernel_launcher.py:1: SettingWithCopyWarning: \n",
      "A value is trying to be set on a copy of a slice from a DataFrame.\n",
      "Try using .loc[row_indexer,col_indexer] = value instead\n",
      "\n",
      "See the caveats in the documentation: http://pandas.pydata.org/pandas-docs/stable/indexing.html#indexing-view-versus-copy\n",
      "  \"\"\"Entry point for launching an IPython kernel.\n"
     ]
    }
   ],
   "source": [
    "listings_clean['host_since'] = pd.to_datetime(listings_clean['host_since'], format=\"%Y-%m-%d\")"
   ]
  },
  {
   "cell_type": "code",
   "execution_count": 31,
   "metadata": {},
   "outputs": [
    {
     "name": "stderr",
     "output_type": "stream",
     "text": [
      "/opt/conda/lib/python3.6/site-packages/ipykernel_launcher.py:2: SettingWithCopyWarning: \n",
      "A value is trying to be set on a copy of a slice from a DataFrame.\n",
      "Try using .loc[row_indexer,col_indexer] = value instead\n",
      "\n",
      "See the caveats in the documentation: http://pandas.pydata.org/pandas-docs/stable/indexing.html#indexing-view-versus-copy\n",
      "  \n",
      "/opt/conda/lib/python3.6/site-packages/ipykernel_launcher.py:4: SettingWithCopyWarning: \n",
      "A value is trying to be set on a copy of a slice from a DataFrame.\n",
      "Try using .loc[row_indexer,col_indexer] = value instead\n",
      "\n",
      "See the caveats in the documentation: http://pandas.pydata.org/pandas-docs/stable/indexing.html#indexing-view-versus-copy\n",
      "  after removing the cwd from sys.path.\n"
     ]
    }
   ],
   "source": [
    "# Fill NaN with 0\n",
    "listings_clean['bedrooms'] = listings_clean['bedrooms'].fillna(0)\n",
    "\n",
    "listings_clean['bedrooms'] = listings_clean['bedrooms'].astype(int)"
   ]
  },
  {
   "cell_type": "markdown",
   "metadata": {},
   "source": [
    "#### Test"
   ]
  },
  {
   "cell_type": "code",
   "execution_count": 32,
   "metadata": {},
   "outputs": [
    {
     "data": {
      "text/plain": [
       "listing_id                       int64\n",
       "name                            object\n",
       "host_id                          int64\n",
       "host_since              datetime64[ns]\n",
       "neighbourhood                   object\n",
       "city                            object\n",
       "room_type                       object\n",
       "accommodates                     int64\n",
       "bedrooms                         int64\n",
       "price                            int64\n",
       "minimum_nights                   int64\n",
       "maximum_nights                   int64\n",
       "review_scores_rating           float64\n",
       "dtype: object"
      ]
     },
     "execution_count": 32,
     "metadata": {},
     "output_type": "execute_result"
    }
   ],
   "source": [
    "listings_clean.dtypes"
   ]
  },
  {
   "cell_type": "code",
   "execution_count": 33,
   "metadata": {},
   "outputs": [],
   "source": [
    "# save the cleaned dataframe\n",
    "listings_clean.to_csv('airbnb_listings_data.csv', index=False)"
   ]
  },
  {
   "cell_type": "markdown",
   "metadata": {},
   "source": [
    "## Exploratory Data Analysis\n",
    "\n",
    "> The cleaned dataset will be analyzed and visualize to identify the trends and patterns in Airbnb listings by cities with major focus on Paris."
   ]
  },
  {
   "cell_type": "code",
   "execution_count": 34,
   "metadata": {},
   "outputs": [],
   "source": [
    "# load to clean dataframe\n",
    "listings_data = pd.read_csv('airbnb_listings_data.csv')"
   ]
  },
  {
   "cell_type": "code",
   "execution_count": 35,
   "metadata": {},
   "outputs": [],
   "source": [
    "# Make a copy of the cleaned dataset\n",
    "listings_data_copy = listings_data.copy()"
   ]
  },
  {
   "cell_type": "code",
   "execution_count": 36,
   "metadata": {},
   "outputs": [
    {
     "data": {
      "text/html": [
       "<div>\n",
       "<style scoped>\n",
       "    .dataframe tbody tr th:only-of-type {\n",
       "        vertical-align: middle;\n",
       "    }\n",
       "\n",
       "    .dataframe tbody tr th {\n",
       "        vertical-align: top;\n",
       "    }\n",
       "\n",
       "    .dataframe thead th {\n",
       "        text-align: right;\n",
       "    }\n",
       "</style>\n",
       "<table border=\"1\" class=\"dataframe\">\n",
       "  <thead>\n",
       "    <tr style=\"text-align: right;\">\n",
       "      <th></th>\n",
       "      <th>listing_id</th>\n",
       "      <th>name</th>\n",
       "      <th>host_id</th>\n",
       "      <th>host_since</th>\n",
       "      <th>neighbourhood</th>\n",
       "      <th>city</th>\n",
       "      <th>room_type</th>\n",
       "      <th>accommodates</th>\n",
       "      <th>bedrooms</th>\n",
       "      <th>price</th>\n",
       "      <th>minimum_nights</th>\n",
       "      <th>maximum_nights</th>\n",
       "      <th>review_scores_rating</th>\n",
       "    </tr>\n",
       "  </thead>\n",
       "  <tbody>\n",
       "    <tr>\n",
       "      <th>0</th>\n",
       "      <td>281420</td>\n",
       "      <td>Beautiful Flat in le Village Montmartre, Paris</td>\n",
       "      <td>1466919</td>\n",
       "      <td>2011-12-03</td>\n",
       "      <td>Buttes-Montmartre</td>\n",
       "      <td>Paris</td>\n",
       "      <td>Entire place</td>\n",
       "      <td>2</td>\n",
       "      <td>1</td>\n",
       "      <td>53</td>\n",
       "      <td>2</td>\n",
       "      <td>1125</td>\n",
       "      <td>100.0</td>\n",
       "    </tr>\n",
       "    <tr>\n",
       "      <th>1</th>\n",
       "      <td>3705183</td>\n",
       "      <td>39 mÃÂ² Paris (Sacre CÃ",
       "âur)</td>\n",
       "      <td>10328771</td>\n",
       "      <td>2013-11-29</td>\n",
       "      <td>Buttes-Montmartre</td>\n",
       "      <td>Paris</td>\n",
       "      <td>Entire place</td>\n",
       "      <td>2</td>\n",
       "      <td>1</td>\n",
       "      <td>120</td>\n",
       "      <td>2</td>\n",
       "      <td>1125</td>\n",
       "      <td>100.0</td>\n",
       "    </tr>\n",
       "    <tr>\n",
       "      <th>2</th>\n",
       "      <td>4082273</td>\n",
       "      <td>Lovely apartment with Terrace, 60m2</td>\n",
       "      <td>19252768</td>\n",
       "      <td>2014-07-31</td>\n",
       "      <td>Elysee</td>\n",
       "      <td>Paris</td>\n",
       "      <td>Entire place</td>\n",
       "      <td>2</td>\n",
       "      <td>1</td>\n",
       "      <td>89</td>\n",
       "      <td>2</td>\n",
       "      <td>1125</td>\n",
       "      <td>100.0</td>\n",
       "    </tr>\n",
       "    <tr>\n",
       "      <th>3</th>\n",
       "      <td>4797344</td>\n",
       "      <td>Cosy studio (close to Eiffel tower)</td>\n",
       "      <td>10668311</td>\n",
       "      <td>2013-12-17</td>\n",
       "      <td>Vaugirard</td>\n",
       "      <td>Paris</td>\n",
       "      <td>Entire place</td>\n",
       "      <td>2</td>\n",
       "      <td>1</td>\n",
       "      <td>58</td>\n",
       "      <td>2</td>\n",
       "      <td>1125</td>\n",
       "      <td>100.0</td>\n",
       "    </tr>\n",
       "    <tr>\n",
       "      <th>4</th>\n",
       "      <td>4823489</td>\n",
       "      <td>Close to Eiffel Tower - Beautiful flat : 2 rooms</td>\n",
       "      <td>24837558</td>\n",
       "      <td>2014-12-14</td>\n",
       "      <td>Passy</td>\n",
       "      <td>Paris</td>\n",
       "      <td>Entire place</td>\n",
       "      <td>2</td>\n",
       "      <td>1</td>\n",
       "      <td>60</td>\n",
       "      <td>2</td>\n",
       "      <td>1125</td>\n",
       "      <td>100.0</td>\n",
       "    </tr>\n",
       "  </tbody>\n",
       "</table>\n",
       "</div>"
      ],
      "text/plain": [
       "   listing_id                                              name   host_id  \\\n",
       "0      281420    Beautiful Flat in le Village Montmartre, Paris   1466919   \n",
       "1     3705183                   39 mÃÂ² Paris (Sacre CÃ\n",
       "âur)  10328771   \n",
       "2     4082273               Lovely apartment with Terrace, 60m2  19252768   \n",
       "3     4797344               Cosy studio (close to Eiffel tower)  10668311   \n",
       "4     4823489  Close to Eiffel Tower - Beautiful flat : 2 rooms  24837558   \n",
       "\n",
       "   host_since      neighbourhood   city     room_type  accommodates  bedrooms  \\\n",
       "0  2011-12-03  Buttes-Montmartre  Paris  Entire place             2         1   \n",
       "1  2013-11-29  Buttes-Montmartre  Paris  Entire place             2         1   \n",
       "2  2014-07-31             Elysee  Paris  Entire place             2         1   \n",
       "3  2013-12-17          Vaugirard  Paris  Entire place             2         1   \n",
       "4  2014-12-14              Passy  Paris  Entire place             2         1   \n",
       "\n",
       "   price  minimum_nights  maximum_nights  review_scores_rating  \n",
       "0     53               2            1125                 100.0  \n",
       "1    120               2            1125                 100.0  \n",
       "2     89               2            1125                 100.0  \n",
       "3     58               2            1125                 100.0  \n",
       "4     60               2            1125                 100.0  "
      ]
     },
     "execution_count": 36,
     "metadata": {},
     "output_type": "execute_result"
    }
   ],
   "source": [
    "listings_data_copy.head()"
   ]
  },
  {
   "cell_type": "code",
   "execution_count": 37,
   "metadata": {},
   "outputs": [],
   "source": [
    "listings_data_copy['host_since'] = pd.to_datetime(listings_data_copy['host_since'], format=\"%Y-%m-%d\")"
   ]
  },
  {
   "cell_type": "code",
   "execution_count": 38,
   "metadata": {},
   "outputs": [
    {
     "name": "stdout",
     "output_type": "stream",
     "text": [
      "<class 'pandas.core.frame.DataFrame'>\n",
      "RangeIndex: 279712 entries, 0 to 279711\n",
      "Data columns (total 13 columns):\n",
      "listing_id              279712 non-null int64\n",
      "name                    279539 non-null object\n",
      "host_id                 279712 non-null int64\n",
      "host_since              279547 non-null datetime64[ns]\n",
      "neighbourhood           279712 non-null object\n",
      "city                    279712 non-null object\n",
      "room_type               279712 non-null object\n",
      "accommodates            279712 non-null int64\n",
      "bedrooms                279712 non-null int64\n",
      "price                   279712 non-null int64\n",
      "minimum_nights          279712 non-null int64\n",
      "maximum_nights          279712 non-null int64\n",
      "review_scores_rating    188307 non-null float64\n",
      "dtypes: datetime64[ns](1), float64(1), int64(7), object(4)\n",
      "memory usage: 27.7+ MB\n"
     ]
    }
   ],
   "source": [
    "listings_data_copy.info()"
   ]
  },
  {
   "cell_type": "markdown",
   "metadata": {},
   "source": [
    "### Average Listing Price by City"
   ]
  },
  {
   "cell_type": "code",
   "execution_count": 39,
   "metadata": {},
   "outputs": [
    {
     "data": {
      "text/html": [
       "<div>\n",
       "<style scoped>\n",
       "    .dataframe tbody tr th:only-of-type {\n",
       "        vertical-align: middle;\n",
       "    }\n",
       "\n",
       "    .dataframe tbody tr th {\n",
       "        vertical-align: top;\n",
       "    }\n",
       "\n",
       "    .dataframe thead th {\n",
       "        text-align: right;\n",
       "    }\n",
       "</style>\n",
       "<table border=\"1\" class=\"dataframe\">\n",
       "  <thead>\n",
       "    <tr style=\"text-align: right;\">\n",
       "      <th></th>\n",
       "      <th>city</th>\n",
       "      <th>price</th>\n",
       "    </tr>\n",
       "  </thead>\n",
       "  <tbody>\n",
       "    <tr>\n",
       "      <th>0</th>\n",
       "      <td>Bangkok</td>\n",
       "      <td>2078.278033</td>\n",
       "    </tr>\n",
       "    <tr>\n",
       "      <th>1</th>\n",
       "      <td>Cape Town</td>\n",
       "      <td>2405.120350</td>\n",
       "    </tr>\n",
       "    <tr>\n",
       "      <th>2</th>\n",
       "      <td>Hong Kong</td>\n",
       "      <td>746.169889</td>\n",
       "    </tr>\n",
       "    <tr>\n",
       "      <th>3</th>\n",
       "      <td>Istanbul</td>\n",
       "      <td>532.557445</td>\n",
       "    </tr>\n",
       "    <tr>\n",
       "      <th>4</th>\n",
       "      <td>Mexico City</td>\n",
       "      <td>1149.253028</td>\n",
       "    </tr>\n",
       "    <tr>\n",
       "      <th>5</th>\n",
       "      <td>New York</td>\n",
       "      <td>142.842240</td>\n",
       "    </tr>\n",
       "    <tr>\n",
       "      <th>6</th>\n",
       "      <td>Paris</td>\n",
       "      <td>113.096445</td>\n",
       "    </tr>\n",
       "    <tr>\n",
       "      <th>7</th>\n",
       "      <td>Rio de Janeiro</td>\n",
       "      <td>742.589254</td>\n",
       "    </tr>\n",
       "    <tr>\n",
       "      <th>8</th>\n",
       "      <td>Rome</td>\n",
       "      <td>105.107643</td>\n",
       "    </tr>\n",
       "    <tr>\n",
       "      <th>9</th>\n",
       "      <td>Sydney</td>\n",
       "      <td>222.013440</td>\n",
       "    </tr>\n",
       "  </tbody>\n",
       "</table>\n",
       "</div>"
      ],
      "text/plain": [
       "             city        price\n",
       "0         Bangkok  2078.278033\n",
       "1       Cape Town  2405.120350\n",
       "2       Hong Kong   746.169889\n",
       "3        Istanbul   532.557445\n",
       "4     Mexico City  1149.253028\n",
       "5        New York   142.842240\n",
       "6           Paris   113.096445\n",
       "7  Rio de Janeiro   742.589254\n",
       "8            Rome   105.107643\n",
       "9          Sydney   222.013440"
      ]
     },
     "execution_count": 39,
     "metadata": {},
     "output_type": "execute_result"
    }
   ],
   "source": [
    "avg_price_city = listings_data_copy.groupby('city')['price'].mean().reset_index()\n",
    "avg_price_city"
   ]
  },
  {
   "cell_type": "markdown",
   "metadata": {},
   "source": [
    "**Visualization**"
   ]
  },
  {
   "cell_type": "code",
   "execution_count": 40,
   "metadata": {},
   "outputs": [
    {
     "data": {
      "image/png": "[encoded data removed]",
      "text/plain": [
       "<matplotlib.figure.Figure at 0x78b0f2c51860>"
      ]
     },
     "metadata": {
      "needs_background": "light"
     },
     "output_type": "display_data"
    }
   ],
   "source": [
    "# Create a bar chart\n",
    "\n",
    "# Create a figure\n",
    "plt.figure(figsize=(10,8))\n",
    "\n",
    "# Create a bar plot using seaborn bar plot\n",
    "sns.barplot(data=avg_price_city, x='city', y='price', palette = 'viridis')\n",
    "\n",
    "# Set title and labels\n",
    "plt.title('Average Listing Price by City')\n",
    "plt.xlabel('City')\n",
    "plt.ylabel('Avg Price')\n",
    "plt.xticks(rotation=45)\n",
    "\n",
    "# Save plot\n",
    "plt.savefig(\"avg_price_city.png\", dpi=300)\n",
    "\n",
    "# Show plot\n",
    "plt.show()"
   ]
  },
  {
   "cell_type": "markdown",
   "metadata": {},
   "source": [
    "> From the distribution above, the average price listings for each city varies different based on their currency rate."
   ]
  },
  {
   "cell_type": "code",
   "execution_count": 41,
   "metadata": {},
   "outputs": [
    {
     "data": {
      "text/html": [
       "<div>\n",
       "<style scoped>\n",
       "    .dataframe tbody tr th:only-of-type {\n",
       "        vertical-align: middle;\n",
       "    }\n",
       "\n",
       "    .dataframe tbody tr th {\n",
       "        vertical-align: top;\n",
       "    }\n",
       "\n",
       "    .dataframe thead th {\n",
       "        text-align: right;\n",
       "    }\n",
       "</style>\n",
       "<table border=\"1\" class=\"dataframe\">\n",
       "  <thead>\n",
       "    <tr style=\"text-align: right;\">\n",
       "      <th></th>\n",
       "      <th>city</th>\n",
       "      <th>review_scores_rating</th>\n",
       "    </tr>\n",
       "  </thead>\n",
       "  <tbody>\n",
       "    <tr>\n",
       "      <th>0</th>\n",
       "      <td>Mexico City</td>\n",
       "      <td>94.837959</td>\n",
       "    </tr>\n",
       "    <tr>\n",
       "      <th>1</th>\n",
       "      <td>Rio de Janeiro</td>\n",
       "      <td>94.571349</td>\n",
       "    </tr>\n",
       "    <tr>\n",
       "      <th>2</th>\n",
       "      <td>Cape Town</td>\n",
       "      <td>94.404838</td>\n",
       "    </tr>\n",
       "    <tr>\n",
       "      <th>3</th>\n",
       "      <td>New York</td>\n",
       "      <td>93.767188</td>\n",
       "    </tr>\n",
       "    <tr>\n",
       "      <th>4</th>\n",
       "      <td>Rome</td>\n",
       "      <td>93.516489</td>\n",
       "    </tr>\n",
       "    <tr>\n",
       "      <th>5</th>\n",
       "      <td>Sydney</td>\n",
       "      <td>93.234135</td>\n",
       "    </tr>\n",
       "    <tr>\n",
       "      <th>6</th>\n",
       "      <td>Paris</td>\n",
       "      <td>93.063931</td>\n",
       "    </tr>\n",
       "    <tr>\n",
       "      <th>7</th>\n",
       "      <td>Bangkok</td>\n",
       "      <td>93.001699</td>\n",
       "    </tr>\n",
       "    <tr>\n",
       "      <th>8</th>\n",
       "      <td>Istanbul</td>\n",
       "      <td>91.063496</td>\n",
       "    </tr>\n",
       "    <tr>\n",
       "      <th>9</th>\n",
       "      <td>Hong Kong</td>\n",
       "      <td>89.707517</td>\n",
       "    </tr>\n",
       "  </tbody>\n",
       "</table>\n",
       "</div>"
      ],
      "text/plain": [
       "             city  review_scores_rating\n",
       "0     Mexico City             94.837959\n",
       "1  Rio de Janeiro             94.571349\n",
       "2       Cape Town             94.404838\n",
       "3        New York             93.767188\n",
       "4            Rome             93.516489\n",
       "5          Sydney             93.234135\n",
       "6           Paris             93.063931\n",
       "7         Bangkok             93.001699\n",
       "8        Istanbul             91.063496\n",
       "9       Hong Kong             89.707517"
      ]
     },
     "execution_count": 41,
     "metadata": {},
     "output_type": "execute_result"
    }
   ],
   "source": [
    "# Calculate the average review rating for each city\n",
    "review_rating_city = listings_data_copy.groupby('city')['review_scores_rating'].mean().reset_index()\n",
    "\n",
    "# sort values by rating\n",
    "review_rating_city = review_rating_city.sort_values(by='review_scores_rating', ascending=False).reset_index(drop=True)\n",
    "review_rating_city"
   ]
  },
  {
   "cell_type": "markdown",
   "metadata": {},
   "source": [
    "> **Mexico City** has the highest review scores rating of 94.84 ~ followed closely by **Rio de Janeiro** and **Cape Town**. **Hong Kong** has the lowest review scores rating of 89.7."
   ]
  },
  {
   "cell_type": "markdown",
   "metadata": {},
   "source": [
    "### We will be analyzing the above data based on Paris city."
   ]
  },
  {
   "cell_type": "code",
   "execution_count": 42,
   "metadata": {},
   "outputs": [],
   "source": [
    "# Filter data to Paris city only\n",
    "paris_listings = listings_data_copy[listings_data_copy['city'] == \"Paris\"]"
   ]
  },
  {
   "cell_type": "markdown",
   "metadata": {},
   "source": [
    "### Average Listing Price by Paris Neighbourhood"
   ]
  },
  {
   "cell_type": "code",
   "execution_count": 43,
   "metadata": {},
   "outputs": [
    {
     "data": {
      "text/html": [
       "<div>\n",
       "<style scoped>\n",
       "    .dataframe tbody tr th:only-of-type {\n",
       "        vertical-align: middle;\n",
       "    }\n",
       "\n",
       "    .dataframe tbody tr th {\n",
       "        vertical-align: top;\n",
       "    }\n",
       "\n",
       "    .dataframe thead th {\n",
       "        text-align: right;\n",
       "    }\n",
       "</style>\n",
       "<table border=\"1\" class=\"dataframe\">\n",
       "  <thead>\n",
       "    <tr style=\"text-align: right;\">\n",
       "      <th></th>\n",
       "      <th>neighbourhood</th>\n",
       "      <th>price</th>\n",
       "    </tr>\n",
       "  </thead>\n",
       "  <tbody>\n",
       "    <tr>\n",
       "      <th>0</th>\n",
       "      <td>Elysee</td>\n",
       "      <td>210.536765</td>\n",
       "    </tr>\n",
       "    <tr>\n",
       "      <th>1</th>\n",
       "      <td>Louvre</td>\n",
       "      <td>175.379972</td>\n",
       "    </tr>\n",
       "    <tr>\n",
       "      <th>2</th>\n",
       "      <td>Passy</td>\n",
       "      <td>161.144635</td>\n",
       "    </tr>\n",
       "    <tr>\n",
       "      <th>3</th>\n",
       "      <td>Palais-Bourbon</td>\n",
       "      <td>156.856578</td>\n",
       "    </tr>\n",
       "    <tr>\n",
       "      <th>4</th>\n",
       "      <td>Luxembourg</td>\n",
       "      <td>155.638639</td>\n",
       "    </tr>\n",
       "    <tr>\n",
       "      <th>5</th>\n",
       "      <td>Bourse</td>\n",
       "      <td>149.496801</td>\n",
       "    </tr>\n",
       "    <tr>\n",
       "      <th>6</th>\n",
       "      <td>Hotel-de-Ville</td>\n",
       "      <td>144.472110</td>\n",
       "    </tr>\n",
       "    <tr>\n",
       "      <th>7</th>\n",
       "      <td>Temple</td>\n",
       "      <td>138.446823</td>\n",
       "    </tr>\n",
       "    <tr>\n",
       "      <th>8</th>\n",
       "      <td>Pantheon</td>\n",
       "      <td>122.662150</td>\n",
       "    </tr>\n",
       "    <tr>\n",
       "      <th>9</th>\n",
       "      <td>Opera</td>\n",
       "      <td>119.038644</td>\n",
       "    </tr>\n",
       "    <tr>\n",
       "      <th>10</th>\n",
       "      <td>Vaugirard</td>\n",
       "      <td>106.831330</td>\n",
       "    </tr>\n",
       "    <tr>\n",
       "      <th>11</th>\n",
       "      <td>Enclos-St-Laurent</td>\n",
       "      <td>102.967156</td>\n",
       "    </tr>\n",
       "    <tr>\n",
       "      <th>12</th>\n",
       "      <td>Batignolles-Monceau</td>\n",
       "      <td>102.612702</td>\n",
       "    </tr>\n",
       "    <tr>\n",
       "      <th>13</th>\n",
       "      <td>Observatoire</td>\n",
       "      <td>101.866801</td>\n",
       "    </tr>\n",
       "    <tr>\n",
       "      <th>14</th>\n",
       "      <td>Gobelins</td>\n",
       "      <td>98.110184</td>\n",
       "    </tr>\n",
       "    <tr>\n",
       "      <th>15</th>\n",
       "      <td>Popincourt</td>\n",
       "      <td>90.559459</td>\n",
       "    </tr>\n",
       "    <tr>\n",
       "      <th>16</th>\n",
       "      <td>Reuilly</td>\n",
       "      <td>89.058402</td>\n",
       "    </tr>\n",
       "    <tr>\n",
       "      <th>17</th>\n",
       "      <td>Buttes-Montmartre</td>\n",
       "      <td>87.209479</td>\n",
       "    </tr>\n",
       "    <tr>\n",
       "      <th>18</th>\n",
       "      <td>Buttes-Chaumont</td>\n",
       "      <td>82.690182</td>\n",
       "    </tr>\n",
       "    <tr>\n",
       "      <th>19</th>\n",
       "      <td>Menilmontant</td>\n",
       "      <td>74.942257</td>\n",
       "    </tr>\n",
       "  </tbody>\n",
       "</table>\n",
       "</div>"
      ],
      "text/plain": [
       "          neighbourhood       price\n",
       "0                Elysee  210.536765\n",
       "1                Louvre  175.379972\n",
       "2                 Passy  161.144635\n",
       "3        Palais-Bourbon  156.856578\n",
       "4            Luxembourg  155.638639\n",
       "5                Bourse  149.496801\n",
       "6        Hotel-de-Ville  144.472110\n",
       "7                Temple  138.446823\n",
       "8              Pantheon  122.662150\n",
       "9                 Opera  119.038644\n",
       "10            Vaugirard  106.831330\n",
       "11    Enclos-St-Laurent  102.967156\n",
       "12  Batignolles-Monceau  102.612702\n",
       "13         Observatoire  101.866801\n",
       "14             Gobelins   98.110184\n",
       "15           Popincourt   90.559459\n",
       "16              Reuilly   89.058402\n",
       "17    Buttes-Montmartre   87.209479\n",
       "18      Buttes-Chaumont   82.690182\n",
       "19         Menilmontant   74.942257"
      ]
     },
     "execution_count": 43,
     "metadata": {},
     "output_type": "execute_result"
    }
   ],
   "source": [
    "# calculate the average price\n",
    "paris_listings_neighbourhood = paris_listings.groupby('neighbourhood')['price'].mean().reset_index()\n",
    "\n",
    "# sort values by price in descending_order\n",
    "paris_listings_neighbourhood = paris_listings_neighbourhood.sort_values(by='price', ascending=False).reset_index(drop=True)\n",
    "paris_listings_neighbourhood"
   ]
  },
  {
   "cell_type": "markdown",
   "metadata": {},
   "source": [
    "**Visualization**"
   ]
  },
  {
   "cell_type": "code",
   "execution_count": 44,
   "metadata": {},
   "outputs": [
    {
     "data": {
      "image/png": "[encoded data removed]",
      "text/plain": [
       "<matplotlib.figure.Figure at 0x78b0f2c51208>"
      ]
     },
     "metadata": {
      "needs_background": "light"
     },
     "output_type": "display_data"
    }
   ],
   "source": [
    "# Create a horizontal bar chart\n",
    "\n",
    "# Create a figure\n",
    "plt.figure(figsize=(10,8))\n",
    "\n",
    "# Create a bar plot using seaborn bar plot\n",
    "sns.barplot(data=paris_listings_neighbourhood, x='price', y='neighbourhood', palette='viridis')\n",
    "\n",
    "# Set title and labels\n",
    "plt.title('Average Listing Price by Paris Neighbourhood')\n",
    "plt.xlabel('Avg Price Per Night (€)')\n",
    "plt.ylabel('Neighbourhood')\n",
    "\n",
    "# Save plot\n",
    "plt.savefig(\"paris_listing_neighbourhood.png\", dpi=300)\n",
    "\n",
    "# Show plot\n",
    "plt.show()\n"
   ]
  },
  {
   "cell_type": "markdown",
   "metadata": {},
   "source": [
    "> From the distribution above, **Elysee** neighbourhood is the most expensive neighbourhood in Paris while **Menilmontant** is the cheapest neighbourhood in Paris."
   ]
  },
  {
   "cell_type": "markdown",
   "metadata": {},
   "source": [
    "### Factors Influencing the Most Expensive Neighbourhood in Paris"
   ]
  },
  {
   "cell_type": "markdown",
   "metadata": {},
   "source": [
    "#### Average Listing Price by Accommodates in Paris"
   ]
  },
  {
   "cell_type": "code",
   "execution_count": 45,
   "metadata": {},
   "outputs": [
    {
     "data": {
      "text/html": [
       "<div>\n",
       "<style scoped>\n",
       "    .dataframe tbody tr th:only-of-type {\n",
       "        vertical-align: middle;\n",
       "    }\n",
       "\n",
       "    .dataframe tbody tr th {\n",
       "        vertical-align: top;\n",
       "    }\n",
       "\n",
       "    .dataframe thead th {\n",
       "        text-align: right;\n",
       "    }\n",
       "</style>\n",
       "<table border=\"1\" class=\"dataframe\">\n",
       "  <thead>\n",
       "    <tr style=\"text-align: right;\">\n",
       "      <th></th>\n",
       "      <th>accommodates</th>\n",
       "      <th>price</th>\n",
       "      <th>listing_id</th>\n",
       "    </tr>\n",
       "  </thead>\n",
       "  <tbody>\n",
       "    <tr>\n",
       "      <th>0</th>\n",
       "      <td>0</td>\n",
       "      <td>0.000000</td>\n",
       "      <td>6</td>\n",
       "    </tr>\n",
       "    <tr>\n",
       "      <th>1</th>\n",
       "      <td>1</td>\n",
       "      <td>79.522222</td>\n",
       "      <td>90</td>\n",
       "    </tr>\n",
       "    <tr>\n",
       "      <th>2</th>\n",
       "      <td>2</td>\n",
       "      <td>155.103352</td>\n",
       "      <td>716</td>\n",
       "    </tr>\n",
       "    <tr>\n",
       "      <th>3</th>\n",
       "      <td>3</td>\n",
       "      <td>152.828767</td>\n",
       "      <td>146</td>\n",
       "    </tr>\n",
       "    <tr>\n",
       "      <th>4</th>\n",
       "      <td>4</td>\n",
       "      <td>212.096070</td>\n",
       "      <td>458</td>\n",
       "    </tr>\n",
       "    <tr>\n",
       "      <th>5</th>\n",
       "      <td>5</td>\n",
       "      <td>328.817073</td>\n",
       "      <td>82</td>\n",
       "    </tr>\n",
       "    <tr>\n",
       "      <th>6</th>\n",
       "      <td>6</td>\n",
       "      <td>355.508571</td>\n",
       "      <td>175</td>\n",
       "    </tr>\n",
       "    <tr>\n",
       "      <th>7</th>\n",
       "      <td>7</td>\n",
       "      <td>411.538462</td>\n",
       "      <td>26</td>\n",
       "    </tr>\n",
       "    <tr>\n",
       "      <th>8</th>\n",
       "      <td>8</td>\n",
       "      <td>405.518519</td>\n",
       "      <td>27</td>\n",
       "    </tr>\n",
       "    <tr>\n",
       "      <th>9</th>\n",
       "      <td>9</td>\n",
       "      <td>440.272727</td>\n",
       "      <td>11</td>\n",
       "    </tr>\n",
       "    <tr>\n",
       "      <th>10</th>\n",
       "      <td>10</td>\n",
       "      <td>500.857143</td>\n",
       "      <td>14</td>\n",
       "    </tr>\n",
       "    <tr>\n",
       "      <th>11</th>\n",
       "      <td>11</td>\n",
       "      <td>805.000000</td>\n",
       "      <td>4</td>\n",
       "    </tr>\n",
       "    <tr>\n",
       "      <th>12</th>\n",
       "      <td>12</td>\n",
       "      <td>529.625000</td>\n",
       "      <td>8</td>\n",
       "    </tr>\n",
       "    <tr>\n",
       "      <th>13</th>\n",
       "      <td>13</td>\n",
       "      <td>842.500000</td>\n",
       "      <td>2</td>\n",
       "    </tr>\n",
       "    <tr>\n",
       "      <th>14</th>\n",
       "      <td>14</td>\n",
       "      <td>971.000000</td>\n",
       "      <td>2</td>\n",
       "    </tr>\n",
       "    <tr>\n",
       "      <th>15</th>\n",
       "      <td>16</td>\n",
       "      <td>800.000000</td>\n",
       "      <td>1</td>\n",
       "    </tr>\n",
       "  </tbody>\n",
       "</table>\n",
       "</div>"
      ],
      "text/plain": [
       "    accommodates       price  listing_id\n",
       "0              0    0.000000           6\n",
       "1              1   79.522222          90\n",
       "2              2  155.103352         716\n",
       "3              3  152.828767         146\n",
       "4              4  212.096070         458\n",
       "5              5  328.817073          82\n",
       "6              6  355.508571         175\n",
       "7              7  411.538462          26\n",
       "8              8  405.518519          27\n",
       "9              9  440.272727          11\n",
       "10            10  500.857143          14\n",
       "11            11  805.000000           4\n",
       "12            12  529.625000           8\n",
       "13            13  842.500000           2\n",
       "14            14  971.000000           2\n",
       "15            16  800.000000           1"
      ]
     },
     "execution_count": 45,
     "metadata": {},
     "output_type": "execute_result"
    }
   ],
   "source": [
    "# calculate the average price\n",
    "paris_listings_accommodates = paris_listings.query(\"neighbourhood == 'Elysee'\").groupby('accommodates').agg({\"price\": \"mean\", \"listing_id\": \"count\"}).reset_index()\n",
    "\n",
    "paris_listings_accommodates"
   ]
  },
  {
   "cell_type": "markdown",
   "metadata": {},
   "source": [
    "**Visualization**"
   ]
  },
  {
   "cell_type": "code",
   "execution_count": 46,
   "metadata": {},
   "outputs": [
    {
     "data": {
      "image/png": "[encoded data removed]",
      "text/plain": [
       "<matplotlib.figure.Figure at 0x78b15171f208>"
      ]
     },
     "metadata": {
      "needs_background": "light"
     },
     "output_type": "display_data"
    }
   ],
   "source": [
    "# Create a bar chart\n",
    "\n",
    "# Create a figure\n",
    "plt.figure(figsize=(10,8))\n",
    "\n",
    "# Create a bar plot using seaborn bar plot\n",
    "sns.barplot(data=paris_listings_accommodates, x='accommodates', y='price', palette='viridis')\n",
    "\n",
    "# Set title and labels\n",
    "plt.title('Average Listing Price by Accommodations')\n",
    "plt.xlabel('Accommodations')\n",
    "plt.ylabel('Avg Price Per Night (€)')\n",
    "\n",
    "# Save plot\n",
    "plt.savefig(\"paris_listing_accomodates.png\", dpi=300)\n",
    "\n",
    "# Show plot\n",
    "plt.show()\n"
   ]
  },
  {
   "cell_type": "markdown",
   "metadata": {},
   "source": [
    "> From the chart above, the higher the accommodates, the higher the listing price. The most expensive listings have accommodations of 14 people for €971. The highest accommodations '16' has only one listing compare to two listings for '14' accommodations."
   ]
  },
  {
   "cell_type": "markdown",
   "metadata": {},
   "source": [
    "#### Average Listing Price by Bedrooms in Paris"
   ]
  },
  {
   "cell_type": "code",
   "execution_count": 47,
   "metadata": {},
   "outputs": [
    {
     "data": {
      "text/html": [
       "<div>\n",
       "<style scoped>\n",
       "    .dataframe tbody tr th:only-of-type {\n",
       "        vertical-align: middle;\n",
       "    }\n",
       "\n",
       "    .dataframe tbody tr th {\n",
       "        vertical-align: top;\n",
       "    }\n",
       "\n",
       "    .dataframe thead th {\n",
       "        text-align: right;\n",
       "    }\n",
       "</style>\n",
       "<table border=\"1\" class=\"dataframe\">\n",
       "  <thead>\n",
       "    <tr style=\"text-align: right;\">\n",
       "      <th></th>\n",
       "      <th>bedrooms</th>\n",
       "      <th>price</th>\n",
       "    </tr>\n",
       "  </thead>\n",
       "  <tbody>\n",
       "    <tr>\n",
       "      <th>0</th>\n",
       "      <td>0</td>\n",
       "      <td>96.386431</td>\n",
       "    </tr>\n",
       "    <tr>\n",
       "      <th>1</th>\n",
       "      <td>1</td>\n",
       "      <td>177.051227</td>\n",
       "    </tr>\n",
       "    <tr>\n",
       "      <th>2</th>\n",
       "      <td>2</td>\n",
       "      <td>302.013289</td>\n",
       "    </tr>\n",
       "    <tr>\n",
       "      <th>3</th>\n",
       "      <td>3</td>\n",
       "      <td>409.720588</td>\n",
       "    </tr>\n",
       "    <tr>\n",
       "      <th>4</th>\n",
       "      <td>4</td>\n",
       "      <td>482.636364</td>\n",
       "    </tr>\n",
       "    <tr>\n",
       "      <th>5</th>\n",
       "      <td>5</td>\n",
       "      <td>509.777778</td>\n",
       "    </tr>\n",
       "    <tr>\n",
       "      <th>6</th>\n",
       "      <td>6</td>\n",
       "      <td>602.500000</td>\n",
       "    </tr>\n",
       "  </tbody>\n",
       "</table>\n",
       "</div>"
      ],
      "text/plain": [
       "   bedrooms       price\n",
       "0         0   96.386431\n",
       "1         1  177.051227\n",
       "2         2  302.013289\n",
       "3         3  409.720588\n",
       "4         4  482.636364\n",
       "5         5  509.777778\n",
       "6         6  602.500000"
      ]
     },
     "execution_count": 47,
     "metadata": {},
     "output_type": "execute_result"
    }
   ],
   "source": [
    "paris_listings_bedrooms = paris_listings.query(\"neighbourhood == 'Elysee'\").groupby(['bedrooms'])['price'].mean().reset_index()\n",
    "paris_listings_bedrooms"
   ]
  },
  {
   "cell_type": "markdown",
   "metadata": {},
   "source": [
    "**Visualization**"
   ]
  },
  {
   "cell_type": "code",
   "execution_count": 48,
   "metadata": {
    "scrolled": true
   },
   "outputs": [
    {
     "data": {
      "image/png": "[encoded data removed]",
      "text/plain": [
       "<matplotlib.figure.Figure at 0x78b15042ea58>"
      ]
     },
     "metadata": {
      "needs_background": "light"
     },
     "output_type": "display_data"
    }
   ],
   "source": [
    "# Create a bar chart\n",
    "\n",
    "# Create a figure\n",
    "plt.figure(figsize=(10,8))\n",
    "\n",
    "# Create a bar plot using seaborn bar plot\n",
    "sns.barplot(data=paris_listings_bedrooms, x='bedrooms', y='price', palette='viridis')\n",
    "\n",
    "# Set title and labels\n",
    "plt.title('Average Listing Price by Bedrooms in Paris')\n",
    "plt.xlabel('Bedrooms')\n",
    "plt.ylabel('Avg Price Per Night (€)')\n",
    "\n",
    "# Save plot\n",
    "plt.savefig(\"paris_listing_bedrooms.png\", dpi=300)\n",
    "\n",
    "\n",
    "# Show plot\n",
    "plt.show()\n"
   ]
  },
  {
   "cell_type": "markdown",
   "metadata": {},
   "source": [
    "> From the chart above, the higher the bedrooms, the higher the listing price. The most expensive listings have 6 bedrooms for €602."
   ]
  },
  {
   "cell_type": "markdown",
   "metadata": {},
   "source": [
    "#### Average Listing Price by Room type in Paris"
   ]
  },
  {
   "cell_type": "code",
   "execution_count": 49,
   "metadata": {},
   "outputs": [
    {
     "data": {
      "text/html": [
       "<div>\n",
       "<style scoped>\n",
       "    .dataframe tbody tr th:only-of-type {\n",
       "        vertical-align: middle;\n",
       "    }\n",
       "\n",
       "    .dataframe tbody tr th {\n",
       "        vertical-align: top;\n",
       "    }\n",
       "\n",
       "    .dataframe thead th {\n",
       "        text-align: right;\n",
       "    }\n",
       "</style>\n",
       "<table border=\"1\" class=\"dataframe\">\n",
       "  <thead>\n",
       "    <tr style=\"text-align: right;\">\n",
       "      <th></th>\n",
       "      <th>room_type</th>\n",
       "      <th>price</th>\n",
       "    </tr>\n",
       "  </thead>\n",
       "  <tbody>\n",
       "    <tr>\n",
       "      <th>0</th>\n",
       "      <td>Hotel room</td>\n",
       "      <td>378.090395</td>\n",
       "    </tr>\n",
       "    <tr>\n",
       "      <th>1</th>\n",
       "      <td>Entire place</td>\n",
       "      <td>195.591925</td>\n",
       "    </tr>\n",
       "    <tr>\n",
       "      <th>2</th>\n",
       "      <td>Private room</td>\n",
       "      <td>173.673575</td>\n",
       "    </tr>\n",
       "    <tr>\n",
       "      <th>3</th>\n",
       "      <td>Shared room</td>\n",
       "      <td>45.636364</td>\n",
       "    </tr>\n",
       "  </tbody>\n",
       "</table>\n",
       "</div>"
      ],
      "text/plain": [
       "      room_type       price\n",
       "0    Hotel room  378.090395\n",
       "1  Entire place  195.591925\n",
       "2  Private room  173.673575\n",
       "3   Shared room   45.636364"
      ]
     },
     "execution_count": 49,
     "metadata": {},
     "output_type": "execute_result"
    }
   ],
   "source": [
    "paris_listings_roomtype = paris_listings.query(\"neighbourhood == 'Elysee'\").groupby(['room_type'])['price'].mean().reset_index()\n",
    "paris_listings_roomtype = paris_listings_roomtype.sort_values(by='price', ascending=False).reset_index(drop=True)\n",
    "paris_listings_roomtype"
   ]
  },
  {
   "cell_type": "markdown",
   "metadata": {},
   "source": [
    "**Visualization**"
   ]
  },
  {
   "cell_type": "code",
   "execution_count": 50,
   "metadata": {},
   "outputs": [
    {
     "data": {
      "image/png": "[encoded data removed]",
      "text/plain": [
       "<matplotlib.figure.Figure at 0x78b100c59da0>"
      ]
     },
     "metadata": {
      "needs_background": "light"
     },
     "output_type": "display_data"
    }
   ],
   "source": [
    "# Create a bar chart\n",
    "\n",
    "# Create a figure\n",
    "plt.figure(figsize=(10,8))\n",
    "\n",
    "sns.barplot(data=paris_listings_roomtype, x='room_type', y='price', palette='viridis')\n",
    "\n",
    "# Set title and labels\n",
    "plt.title('Average Listing Price by Room Type in Paris')\n",
    "plt.xlabel('Accommodations')\n",
    "plt.ylabel('Avg Price Per Night (€)')\n",
    "\n",
    "# Save plot\n",
    "plt.savefig(\"paris_listing_room_type.png\", dpi=300)\n",
    "\n",
    "# Show plot\n",
    "plt.show()"
   ]
  },
  {
   "cell_type": "markdown",
   "metadata": {},
   "source": [
    "> From the chart above, **Hotel room** space is the most expensive listings room type with average price of €378 followed by **Entire place** space."
   ]
  },
  {
   "cell_type": "markdown",
   "metadata": {},
   "source": [
    "### Airbnb Hosts and Price Over Time in Paris\n",
    "\n",
    "The numbers of new airbnb hosts over time and average airbnb price in paris per year."
   ]
  },
  {
   "cell_type": "code",
   "execution_count": 51,
   "metadata": {},
   "outputs": [
    {
     "name": "stderr",
     "output_type": "stream",
     "text": [
      "/opt/conda/lib/python3.6/site-packages/ipykernel_launcher.py:2: SettingWithCopyWarning: \n",
      "A value is trying to be set on a copy of a slice from a DataFrame.\n",
      "Try using .loc[row_indexer,col_indexer] = value instead\n",
      "\n",
      "See the caveats in the documentation: http://pandas.pydata.org/pandas-docs/stable/indexing.html#indexing-view-versus-copy\n",
      "  \n",
      "/opt/conda/lib/python3.6/site-packages/ipykernel_launcher.py:3: SettingWithCopyWarning: \n",
      "A value is trying to be set on a copy of a slice from a DataFrame.\n",
      "Try using .loc[row_indexer,col_indexer] = value instead\n",
      "\n",
      "See the caveats in the documentation: http://pandas.pydata.org/pandas-docs/stable/indexing.html#indexing-view-versus-copy\n",
      "  This is separate from the ipykernel package so we can avoid doing imports until\n"
     ]
    }
   ],
   "source": [
    "# Create a year column from host since date\n",
    "paris_listings['year'] = paris_listings['host_since'].dt.year\n",
    "paris_listings['year'] = paris_listings['year'].fillna(0).astype(int)"
   ]
  },
  {
   "cell_type": "code",
   "execution_count": 52,
   "metadata": {},
   "outputs": [
    {
     "data": {
      "text/html": [
       "<div>\n",
       "<style scoped>\n",
       "    .dataframe tbody tr th:only-of-type {\n",
       "        vertical-align: middle;\n",
       "    }\n",
       "\n",
       "    .dataframe tbody tr th {\n",
       "        vertical-align: top;\n",
       "    }\n",
       "\n",
       "    .dataframe thead th {\n",
       "        text-align: right;\n",
       "    }\n",
       "</style>\n",
       "<table border=\"1\" class=\"dataframe\">\n",
       "  <thead>\n",
       "    <tr style=\"text-align: right;\">\n",
       "      <th></th>\n",
       "      <th>year</th>\n",
       "      <th>listing_id</th>\n",
       "      <th>price</th>\n",
       "    </tr>\n",
       "  </thead>\n",
       "  <tbody>\n",
       "    <tr>\n",
       "      <th>1</th>\n",
       "      <td>2008</td>\n",
       "      <td>4</td>\n",
       "      <td>77.750000</td>\n",
       "    </tr>\n",
       "    <tr>\n",
       "      <th>2</th>\n",
       "      <td>2009</td>\n",
       "      <td>106</td>\n",
       "      <td>159.641509</td>\n",
       "    </tr>\n",
       "    <tr>\n",
       "      <th>3</th>\n",
       "      <td>2010</td>\n",
       "      <td>416</td>\n",
       "      <td>125.031250</td>\n",
       "    </tr>\n",
       "    <tr>\n",
       "      <th>4</th>\n",
       "      <td>2011</td>\n",
       "      <td>1339</td>\n",
       "      <td>124.828230</td>\n",
       "    </tr>\n",
       "    <tr>\n",
       "      <th>5</th>\n",
       "      <td>2012</td>\n",
       "      <td>4592</td>\n",
       "      <td>111.578615</td>\n",
       "    </tr>\n",
       "    <tr>\n",
       "      <th>6</th>\n",
       "      <td>2013</td>\n",
       "      <td>8142</td>\n",
       "      <td>107.096414</td>\n",
       "    </tr>\n",
       "    <tr>\n",
       "      <th>7</th>\n",
       "      <td>2014</td>\n",
       "      <td>10922</td>\n",
       "      <td>100.253800</td>\n",
       "    </tr>\n",
       "    <tr>\n",
       "      <th>8</th>\n",
       "      <td>2015</td>\n",
       "      <td>12147</td>\n",
       "      <td>103.646250</td>\n",
       "    </tr>\n",
       "    <tr>\n",
       "      <th>9</th>\n",
       "      <td>2016</td>\n",
       "      <td>8871</td>\n",
       "      <td>114.159847</td>\n",
       "    </tr>\n",
       "    <tr>\n",
       "      <th>10</th>\n",
       "      <td>2017</td>\n",
       "      <td>4585</td>\n",
       "      <td>108.658888</td>\n",
       "    </tr>\n",
       "    <tr>\n",
       "      <th>11</th>\n",
       "      <td>2018</td>\n",
       "      <td>4294</td>\n",
       "      <td>138.209362</td>\n",
       "    </tr>\n",
       "    <tr>\n",
       "      <th>12</th>\n",
       "      <td>2019</td>\n",
       "      <td>5694</td>\n",
       "      <td>129.757113</td>\n",
       "    </tr>\n",
       "    <tr>\n",
       "      <th>13</th>\n",
       "      <td>2020</td>\n",
       "      <td>3412</td>\n",
       "      <td>141.456038</td>\n",
       "    </tr>\n",
       "    <tr>\n",
       "      <th>14</th>\n",
       "      <td>2021</td>\n",
       "      <td>133</td>\n",
       "      <td>93.488722</td>\n",
       "    </tr>\n",
       "  </tbody>\n",
       "</table>\n",
       "</div>"
      ],
      "text/plain": [
       "    year  listing_id       price\n",
       "1   2008           4   77.750000\n",
       "2   2009         106  159.641509\n",
       "3   2010         416  125.031250\n",
       "4   2011        1339  124.828230\n",
       "5   2012        4592  111.578615\n",
       "6   2013        8142  107.096414\n",
       "7   2014       10922  100.253800\n",
       "8   2015       12147  103.646250\n",
       "9   2016        8871  114.159847\n",
       "10  2017        4585  108.658888\n",
       "11  2018        4294  138.209362\n",
       "12  2019        5694  129.757113\n",
       "13  2020        3412  141.456038\n",
       "14  2021         133   93.488722"
      ]
     },
     "execution_count": 52,
     "metadata": {},
     "output_type": "execute_result"
    }
   ],
   "source": [
    "paris_listings_time = paris_listings.groupby('year').agg({\"listing_id\": \"count\", \"price\": \"mean\"}).reset_index()\n",
    "paris_listings_time = paris_listings_time[1:]\n",
    "paris_listings_time"
   ]
  },
  {
   "cell_type": "markdown",
   "metadata": {},
   "source": [
    "**Visualizations**"
   ]
  },
  {
   "cell_type": "code",
   "execution_count": 53,
   "metadata": {},
   "outputs": [
    {
     "data": {
      "image/png": "[encoded data removed]",
      "text/plain": [
       "<matplotlib.figure.Figure at 0x78b100c41c18>"
      ]
     },
     "metadata": {
      "needs_background": "light"
     },
     "output_type": "display_data"
    }
   ],
   "source": [
    "# Create a line chart\n",
    "\n",
    "# Create a figure\n",
    "plt.figure(figsize=(10,8))\n",
    "\n",
    "\n",
    "# Create a line plot using matplotlib plot\n",
    "plt.plot(paris_listings_time['year'], paris_listings_time['listing_id'], marker='o')\n",
    "\n",
    "# Set title and labels\n",
    "plt.title('New AirBnB Hosts in Paris Over Time')\n",
    "plt.xlabel('host_since')\n",
    "plt.ylabel('New Hosts')\n",
    "\n",
    "# Save plot\n",
    "plt.savefig(\"new_airbnb_paris.png\", dpi=300)\n",
    "\n",
    "\n",
    "# Show plot\n",
    "plt.show()"
   ]
  },
  {
   "cell_type": "markdown",
   "metadata": {},
   "source": [
    "> From the chart above, Since the launched of **Airbnb** in 2008, the no of new hosts in Paris increase rapidly from 4 hosts in 2008 to **12147** hosts in **2015**. Since the government regulations in 2015, the no of new hosts decreases drastically yearly."
   ]
  },
  {
   "cell_type": "code",
   "execution_count": 54,
   "metadata": {},
   "outputs": [
    {
     "data": {
      "image/png": "[encoded data removed]",
      "text/plain": [
       "<matplotlib.figure.Figure at 0x78b1504342b0>"
      ]
     },
     "metadata": {
      "needs_background": "light"
     },
     "output_type": "display_data"
    }
   ],
   "source": [
    "# Create a line chart\n",
    "\n",
    "# Create a figure\n",
    "plt.figure(figsize=(10,8))\n",
    "\n",
    "# Create a line plot using matplotlib plot\n",
    "plt.plot(paris_listings_time['year'], paris_listings_time['price'], marker='o')\n",
    "\n",
    "# Set title and labels\n",
    "plt.title('Average AirBnB Price in Paris per Year')\n",
    "plt.xlabel('host_since')\n",
    "plt.ylabel('Average Price (€)')\n",
    "\n",
    "# Save plot\n",
    "plt.savefig(\"avg_price_paris.png\", dpi=300)\n",
    "\n",
    "# Show plot\n",
    "plt.show()"
   ]
  },
  {
   "cell_type": "markdown",
   "metadata": {},
   "source": [
    "> From the chart above, The average airbnb price peak in 2009 then begin to decline due to rise of new hosts which create competition for customers. After the 2015 regulations in prices, the average price rise again to a high point in 2020 before the pandemic due to decline of new hosts which later declined during the middle of the Covid lockdown in 2021."
   ]
  },
  {
   "cell_type": "markdown",
   "metadata": {},
   "source": [
    "### Summary of Findings\n",
    "\n",
    "- The average price listings for each city varies different based on their currency rate.\n",
    "\n",
    "\n",
    "- **Mexico City** has the highest review scores rating of 94.84 ~ followed closely by **Rio de Janeiro** and **Cape Town**. **Hong Kong** has the lowest review scores rating of 89.7.\n",
    "\n",
    "\n",
    "\n",
    "- **Elysee** neighbourhood is the most expensive neighbourhood in Paris while **Menilmontant** is the cheapest neighbourhood in Paris.\n",
    "\n",
    "\n",
    "\n",
    "- The higher the accommodates, the higher the listing price. The most expensive listings have accommodations of 14 people for €971. The highest accommodations '16' has only one listing compare to two listings for '14' accommodations.\n",
    "\n",
    "\n",
    "- The higher the bedrooms, the higher the listing price. The most expensive listings have 6 bedrooms for €602.\n",
    "\n",
    "\n",
    "\n",
    "- **Hotel room** space is the most expensive listings room type with average price of €378 followed by **Entire place** space.\n",
    "\n",
    "\n",
    "\n",
    "- Since the launched of **Airbnb** in 2008, the no of new hosts in Paris increase rapidly from 4 hosts in 2008 to **12147** hosts in **2015**. Since the government regulations in 2015, the no of new hosts decreases drastically yearly.\n",
    "\n",
    "\n",
    "\n",
    "- The average Airbnb price peak in 2009 then begin to decline due to rise of new hosts which create competition for customers. After the 2015 regulations in prices, the average price rise again to a high point in 2020 before the pandemic due to decline of new hosts which later declined during the middle of the Covid lockdown in 2021.\n",
    "\n",
    "\n",
    "\n",
    "- 2015 regulations lead to fewer number of new hosts with higher prices."
   ]
  },
  {
   "cell_type": "markdown",
   "metadata": {},
   "source": [
    "## Conclusions\n",
    "\n",
    "From the analysis above, I was able to identify the trends and patterns in Airbnb listings in Paris city. Uncovered insights on the Airbnb market in Paris and factors with the biggest influence in price.\n",
    "\n",
    "The 2015 regulations had a great impact in Airbnb listings in Paris which lead to fewer number of new hosts, higher prices from 2015 till 2021. "
   ]
  }
 ],
 "metadata": {
  "kernelspec": {
   "display_name": "Python 3",
   "language": "python",
   "name": "python3"
  },
  "language_info": {
   "codemirror_mode": {
    "name": "ipython",
    "version": 3
   },
   "file_extension": ".py",
   "mimetype": "text/x-python",
   "name": "python",
   "nbconvert_exporter": "python",
   "pygments_lexer": "ipython3",
   "version": "3.6.3"
  }
 },
 "nbformat": 4,
 "nbformat_minor": 2
}
